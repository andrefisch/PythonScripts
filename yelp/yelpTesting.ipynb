{
 "cells": [
  {
   "cell_type": "code",
   "execution_count": 12,
   "metadata": {
    "collapsed": true,
    "deletable": true,
    "editable": true
   },
   "outputs": [],
   "source": [
    "from rapidconnect import RapidConnect\n",
    "rapid = RapidConnect(\"YelpAdSearch\", \"596c2786-735a-4d60-a0c1-de2f14bc89fa\")"
   ]
  },
  {
   "cell_type": "code",
   "execution_count": 13,
   "metadata": {
    "collapsed": true,
    "deletable": true,
    "editable": true
   },
   "outputs": [],
   "source": [
    "token = rapid.call(\"YelpAPI\", \"getAccessToken\", { \n",
    "    \"appId\": \"yP35XZWRfDcx68mImckV4A\",\n",
    "    \"appSecret\": \"IVk0UmWQBM3Rwk1fJqZQ95L2Pr0n8aihQQDFc5qaWNtaVudLXgYpdaK8Ye4gMvpn\"\n",
    "\n",
    "    })"
   ]
  },
  {
   "cell_type": "code",
   "execution_count": 14,
   "metadata": {
    "collapsed": false,
    "deletable": true,
    "editable": true
   },
   "outputs": [],
   "source": [
    "results = rapid.call(\"YelpAPI\", \"getBusinesses\", { \n",
    "    \"accessToken\": token[\"access_token\"],\n",
    "    \"term\": \"Chinese Food\",\n",
    "    \"location\": \"New York City\",\n",
    "    \"latitude\": \"\",\n",
    "    \"longitude\": \"\",\n",
    "    \"radius\": \"\",\n",
    "    \"categories\": \"\",\n",
    "    \"locale\": \"\",\n",
    "    \"limit\": \"10\",\n",
    "    \"offset\": \"\",\n",
    "    \"sortBy\": \"\",\n",
    "    \"price\": \"\",\n",
    "    \"openNow\": \"\",\n",
    "    \"openAt\": \"\",\n",
    "    \"attributes\": \"\"\n",
    "    })"
   ]
  },
  {
   "cell_type": "code",
   "execution_count": 15,
   "metadata": {
    "collapsed": false
   },
   "outputs": [
    {
     "name": "stdout",
     "output_type": "stream",
     "text": [
      "{'phone': '+12129255175', 'transactions': [], 'name': 'Wah Fung No 1', 'distance': 1323.1809371504, 'url': 'https://www.yelp.com/biz/wah-fung-no-1-new-york?adjust_creative=yP35XZWRfDcx68mImckV4A&utm_campaign=yelp_api_v3&utm_medium=api_v3_business_search&utm_source=yP35XZWRfDcx68mImckV4A', 'is_closed': False, 'price': '$', 'coordinates': {'longitude': -73.994567, 'latitude': 40.717346}, 'categories': [{'alias': 'chinese', 'title': 'Chinese'}, {'alias': 'bbq', 'title': 'Barbeque'}, {'alias': 'hotdogs', 'title': 'Fast Food'}], 'rating': 4.5, 'location': {'address1': '79 Chrystie St', 'city': 'New York', 'address2': '', 'state': 'NY', 'address3': '', 'country': 'US', 'display_address': ['79 Chrystie St', 'New York, NY 10002'], 'zip_code': '10002'}, 'id': 'wah-fung-no-1-new-york', 'display_phone': '(212) 925-5175', 'review_count': 701, 'image_url': 'https://s3-media1.fl.yelpcdn.com/bphoto/Fxc3jAd5yDccxumuaqvwOw/o.jpg'}\n"
     ]
    }
   ],
   "source": [
    "print (results['businesses'][0])"
   ]
  },
  {
   "cell_type": "code",
   "execution_count": 17,
   "metadata": {
    "collapsed": false,
    "deletable": true,
    "editable": true
   },
   "outputs": [
    {
     "name": "stdout",
     "output_type": "stream",
     "text": [
      "+12129255175\n",
      "Wah Fung No 1\n",
      "79 Chrystie St, New York, NY 10002\n",
      "https://www.yelp.com/biz/wah-fung-no-1-new-york?adjust_creative=yP35XZWRfDcx68mImckV4A&utm_campaign=yelp_api_v3&utm_medium=api_v3_business_search&utm_source=yP35XZWRfDcx68mImckV4A\n"
     ]
    }
   ],
   "source": [
    "result = 0\n",
    "print (results['businesses'][result]['phone'])\n",
    "print (results['businesses'][result]['name'])\n",
    "print (results['businesses'][result]['location']['display_address'][0] + \", \" + results['businesses'][result]['location']['display_address'][1])\n",
    "print (results['businesses'][result]['url'])"
   ]
  }
 ],
 "metadata": {
  "kernelspec": {
   "display_name": "Python 3",
   "language": "python",
   "name": "python3"
  },
  "language_info": {
   "codemirror_mode": {
    "name": "ipython",
    "version": 3
   },
   "file_extension": ".py",
   "mimetype": "text/x-python",
   "name": "python",
   "nbconvert_exporter": "python",
   "pygments_lexer": "ipython3",
   "version": "3.5.2"
  }
 },
 "nbformat": 4,
 "nbformat_minor": 2
}
