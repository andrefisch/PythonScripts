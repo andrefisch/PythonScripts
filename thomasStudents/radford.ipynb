{
 "cells": [
  {
   "cell_type": "code",
   "execution_count": 2,
   "metadata": {
    "collapsed": true,
    "deletable": true,
    "editable": true
   },
   "outputs": [],
   "source": [
    "from urllib.parse import urlencode\n",
    "from urllib.request import Request, urlopen\n",
    "import pandas\n",
    "import openpyxl\n",
    "import re\n",
    "import math"
   ]
  },
  {
   "cell_type": "code",
   "execution_count": 3,
   "metadata": {
    "collapsed": false,
    "deletable": true,
    "editable": true
   },
   "outputs": [],
   "source": [
    "# 1.\n",
    "# Open the file for editing\n",
    "xfile = openpyxl.load_workbook('odu.xlsx')\n",
    "# Open the worksheet we want to edit\n",
    "sheet = xfile.get_sheet_by_name('students')"
   ]
  },
  {
   "cell_type": "code",
   "execution_count": 21,
   "metadata": {
    "collapsed": false,
    "deletable": true,
    "editable": true
   },
   "outputs": [
    {
     "name": "stdout",
     "output_type": "stream",
     "text": [
      "[           0          1                    2           3\n",
      "0  Last Name  Full Name  RU Email / Username  Department,                                                    0   \\\n",
      "0   Search by last name or partial last name - Ent...   \n",
      "1                                            RU Links   \n",
      "2                                        RU Home Page   \n",
      "3                                         RU Site Map   \n",
      "4                                       Other Sources   \n",
      "5                             VA Government Directory   \n",
      "6                                    Switchboard .COM   \n",
      "7                                         Four11 .COM   \n",
      "8                                          Who Where?   \n",
      "9                             Internet @ddress Finder   \n",
      "10                                 Classmates On-Line   \n",
      "\n",
      "                                                   1         2             3   \\\n",
      "0   RU Links  RU Home Page  RU Site Map  Other Sou...  RU Links  RU Home Page   \n",
      "1                                                 NaN       NaN           NaN   \n",
      "2                                                 NaN       NaN           NaN   \n",
      "3                                                 NaN       NaN           NaN   \n",
      "4                                                 NaN       NaN           NaN   \n",
      "5                                                 NaN       NaN           NaN   \n",
      "6                                                 NaN       NaN           NaN   \n",
      "7                                                 NaN       NaN           NaN   \n",
      "8                                                 NaN       NaN           NaN   \n",
      "9                                                 NaN       NaN           NaN   \n",
      "10                                                NaN       NaN           NaN   \n",
      "\n",
      "             4              5                        6                 7   \\\n",
      "0   RU Site Map  Other Sources  VA Government Directory  Switchboard .COM   \n",
      "1           NaN            NaN                      NaN               NaN   \n",
      "2           NaN            NaN                      NaN               NaN   \n",
      "3           NaN            NaN                      NaN               NaN   \n",
      "4           NaN            NaN                      NaN               NaN   \n",
      "5           NaN            NaN                      NaN               NaN   \n",
      "6           NaN            NaN                      NaN               NaN   \n",
      "7           NaN            NaN                      NaN               NaN   \n",
      "8           NaN            NaN                      NaN               NaN   \n",
      "9           NaN            NaN                      NaN               NaN   \n",
      "10          NaN            NaN                      NaN               NaN   \n",
      "\n",
      "             8           9                        10                  11  \n",
      "0   Four11 .COM  Who Where?  Internet @ddress Finder  Classmates On-Line  \n",
      "1           NaN         NaN                      NaN                 NaN  \n",
      "2           NaN         NaN                      NaN                 NaN  \n",
      "3           NaN         NaN                      NaN                 NaN  \n",
      "4           NaN         NaN                      NaN                 NaN  \n",
      "5           NaN         NaN                      NaN                 NaN  \n",
      "6           NaN         NaN                      NaN                 NaN  \n",
      "7           NaN         NaN                      NaN                 NaN  \n",
      "8           NaN         NaN                      NaN                 NaN  \n",
      "9           NaN         NaN                      NaN                 NaN  \n",
      "10          NaN         NaN                      NaN                 NaN  ,               0\n",
      "0      RU Links\n",
      "1  RU Home Page\n",
      "2   RU Site Map,                          0\n",
      "0            Other Sources\n",
      "1  VA Government Directory\n",
      "2         Switchboard .COM\n",
      "3              Four11 .COM\n",
      "4               Who Where?\n",
      "5  Internet @ddress Finder\n",
      "6       Classmates On-Line,                                                    0  \\\n",
      "0  Notice This RU Campus Directory is provided as...   \n",
      "\n",
      "                                                   1  \\\n",
      "0  RU Students If you do not want your informatio...   \n",
      "\n",
      "                                                   2  \n",
      "0  Faculty & Staff If you do not want your inform...  ]\n"
     ]
    },
    {
     "ename": "KeyError",
     "evalue": "3",
     "output_type": "error",
     "traceback": [
      "\u001b[0;31m---------------------------------------------------------------------------\u001b[0m",
      "\u001b[0;31mKeyError\u001b[0m                                  Traceback (most recent call last)",
      "\u001b[0;32m<ipython-input-21-74f2ba3b5baa>\u001b[0m in \u001b[0;36m<module>\u001b[0;34m()\u001b[0m\n\u001b[1;32m     14\u001b[0m     \u001b[0mhtml\u001b[0m \u001b[0;34m=\u001b[0m \u001b[0mpandas\u001b[0m\u001b[0;34m.\u001b[0m\u001b[0mread_html\u001b[0m\u001b[0;34m(\u001b[0m\u001b[0mjson\u001b[0m\u001b[0;34m)\u001b[0m\u001b[0;34m\u001b[0m\u001b[0m\n\u001b[1;32m     15\u001b[0m     \u001b[0mprint\u001b[0m \u001b[0;34m(\u001b[0m\u001b[0mhtml\u001b[0m\u001b[0;34m)\u001b[0m\u001b[0;34m\u001b[0m\u001b[0m\n\u001b[0;32m---> 16\u001b[0;31m     \u001b[0memail\u001b[0m \u001b[0;34m=\u001b[0m \u001b[0mhtml\u001b[0m\u001b[0;34m[\u001b[0m\u001b[0;36m0\u001b[0m\u001b[0;34m]\u001b[0m\u001b[0;34m[\u001b[0m\u001b[0;36m1\u001b[0m\u001b[0;34m]\u001b[0m\u001b[0;34m[\u001b[0m\u001b[0;36m3\u001b[0m\u001b[0;34m]\u001b[0m\u001b[0;34m\u001b[0m\u001b[0m\n\u001b[0m\u001b[1;32m     17\u001b[0m     \u001b[0;32mfor\u001b[0m \u001b[0mi\u001b[0m \u001b[0;32min\u001b[0m \u001b[0mrange\u001b[0m\u001b[0;34m(\u001b[0m\u001b[0;36m2\u001b[0m\u001b[0;34m,\u001b[0m \u001b[0mlen\u001b[0m\u001b[0;34m(\u001b[0m\u001b[0mhtml\u001b[0m\u001b[0;34m[\u001b[0m\u001b[0;36m0\u001b[0m\u001b[0;34m]\u001b[0m\u001b[0;34m[\u001b[0m\u001b[0;36m1\u001b[0m\u001b[0;34m]\u001b[0m\u001b[0;34m)\u001b[0m\u001b[0;34m)\u001b[0m\u001b[0;34m:\u001b[0m\u001b[0;34m\u001b[0m\u001b[0m\n\u001b[1;32m     18\u001b[0m         \u001b[0;32mif\u001b[0m \u001b[0mlastName\u001b[0m \u001b[0;32min\u001b[0m \u001b[0mhtml\u001b[0m\u001b[0;34m[\u001b[0m\u001b[0;36m0\u001b[0m\u001b[0;34m]\u001b[0m\u001b[0;34m[\u001b[0m\u001b[0;36m0\u001b[0m\u001b[0;34m]\u001b[0m\u001b[0;34m[\u001b[0m\u001b[0mi\u001b[0m\u001b[0;34m]\u001b[0m \u001b[0;32mand\u001b[0m \u001b[0mfirstName\u001b[0m \u001b[0;32min\u001b[0m \u001b[0mhtml\u001b[0m\u001b[0;34m[\u001b[0m\u001b[0;36m0\u001b[0m\u001b[0;34m]\u001b[0m\u001b[0;34m[\u001b[0m\u001b[0;36m0\u001b[0m\u001b[0;34m]\u001b[0m\u001b[0;34m[\u001b[0m\u001b[0mi\u001b[0m\u001b[0;34m]\u001b[0m\u001b[0;34m:\u001b[0m\u001b[0;34m\u001b[0m\u001b[0m\n",
      "\u001b[0;32m/usr/local/lib/python3.5/dist-packages/pandas/core/series.py\u001b[0m in \u001b[0;36m__getitem__\u001b[0;34m(self, key)\u001b[0m\n\u001b[1;32m    601\u001b[0m         \u001b[0mkey\u001b[0m \u001b[0;34m=\u001b[0m \u001b[0mcom\u001b[0m\u001b[0;34m.\u001b[0m\u001b[0m_apply_if_callable\u001b[0m\u001b[0;34m(\u001b[0m\u001b[0mkey\u001b[0m\u001b[0;34m,\u001b[0m \u001b[0mself\u001b[0m\u001b[0;34m)\u001b[0m\u001b[0;34m\u001b[0m\u001b[0m\n\u001b[1;32m    602\u001b[0m         \u001b[0;32mtry\u001b[0m\u001b[0;34m:\u001b[0m\u001b[0;34m\u001b[0m\u001b[0m\n\u001b[0;32m--> 603\u001b[0;31m             \u001b[0mresult\u001b[0m \u001b[0;34m=\u001b[0m \u001b[0mself\u001b[0m\u001b[0;34m.\u001b[0m\u001b[0mindex\u001b[0m\u001b[0;34m.\u001b[0m\u001b[0mget_value\u001b[0m\u001b[0;34m(\u001b[0m\u001b[0mself\u001b[0m\u001b[0;34m,\u001b[0m \u001b[0mkey\u001b[0m\u001b[0;34m)\u001b[0m\u001b[0;34m\u001b[0m\u001b[0m\n\u001b[0m\u001b[1;32m    604\u001b[0m \u001b[0;34m\u001b[0m\u001b[0m\n\u001b[1;32m    605\u001b[0m             \u001b[0;32mif\u001b[0m \u001b[0;32mnot\u001b[0m \u001b[0mis_scalar\u001b[0m\u001b[0;34m(\u001b[0m\u001b[0mresult\u001b[0m\u001b[0;34m)\u001b[0m\u001b[0;34m:\u001b[0m\u001b[0;34m\u001b[0m\u001b[0m\n",
      "\u001b[0;32m/usr/local/lib/python3.5/dist-packages/pandas/indexes/base.py\u001b[0m in \u001b[0;36mget_value\u001b[0;34m(self, series, key)\u001b[0m\n\u001b[1;32m   2167\u001b[0m         \u001b[0;32mtry\u001b[0m\u001b[0;34m:\u001b[0m\u001b[0;34m\u001b[0m\u001b[0m\n\u001b[1;32m   2168\u001b[0m             return self._engine.get_value(s, k,\n\u001b[0;32m-> 2169\u001b[0;31m                                           tz=getattr(series.dtype, 'tz', None))\n\u001b[0m\u001b[1;32m   2170\u001b[0m         \u001b[0;32mexcept\u001b[0m \u001b[0mKeyError\u001b[0m \u001b[0;32mas\u001b[0m \u001b[0me1\u001b[0m\u001b[0;34m:\u001b[0m\u001b[0;34m\u001b[0m\u001b[0m\n\u001b[1;32m   2171\u001b[0m             \u001b[0;32mif\u001b[0m \u001b[0mlen\u001b[0m\u001b[0;34m(\u001b[0m\u001b[0mself\u001b[0m\u001b[0;34m)\u001b[0m \u001b[0;34m>\u001b[0m \u001b[0;36m0\u001b[0m \u001b[0;32mand\u001b[0m \u001b[0mself\u001b[0m\u001b[0;34m.\u001b[0m\u001b[0minferred_type\u001b[0m \u001b[0;32min\u001b[0m \u001b[0;34m[\u001b[0m\u001b[0;34m'integer'\u001b[0m\u001b[0;34m,\u001b[0m \u001b[0;34m'boolean'\u001b[0m\u001b[0;34m]\u001b[0m\u001b[0;34m:\u001b[0m\u001b[0;34m\u001b[0m\u001b[0m\n",
      "\u001b[0;32mpandas/index.pyx\u001b[0m in \u001b[0;36mpandas.index.IndexEngine.get_value (pandas/index.c:3557)\u001b[0;34m()\u001b[0m\n",
      "\u001b[0;32mpandas/index.pyx\u001b[0m in \u001b[0;36mpandas.index.IndexEngine.get_value (pandas/index.c:3240)\u001b[0;34m()\u001b[0m\n",
      "\u001b[0;32mpandas/index.pyx\u001b[0m in \u001b[0;36mpandas.index.IndexEngine.get_loc (pandas/index.c:4279)\u001b[0;34m()\u001b[0m\n",
      "\u001b[0;32mpandas/src/hashtable_class_helper.pxi\u001b[0m in \u001b[0;36mpandas.hashtable.Int64HashTable.get_item (pandas/hashtable.c:8564)\u001b[0;34m()\u001b[0m\n",
      "\u001b[0;32mpandas/src/hashtable_class_helper.pxi\u001b[0m in \u001b[0;36mpandas.hashtable.Int64HashTable.get_item (pandas/hashtable.c:8508)\u001b[0;34m()\u001b[0m\n",
      "\u001b[0;31mKeyError\u001b[0m: 3"
     ]
    }
   ],
   "source": [
    "row = 2\n",
    "# A. \n",
    "firstName = sheet['B' + str(row)].value\n",
    "lastName = sheet['C' + str(row)].value\n",
    "\n",
    "url = 'https://webapps.radford.edu/ru-directory/content/search/partialLastName'\n",
    "#url = 'https://www.odu.edu/directory'\n",
    "post_fields = {'pln': lastName}\n",
    "request = Request(url)#, urlencode(post_fields).encode())\n",
    "json = urlopen(request).read()\n",
    "#print (json)\n",
    "# Make sure there are any results for the search\n",
    "if \"<table\" in str(json):\n",
    "    html = pandas.read_html(json)\n",
    "    print (html)\n",
    "    email = html[0][1][3]\n",
    "    for i in range(2, len(html[0][1])):\n",
    "        if lastName in html[0][0][i] and firstName in html[0][0][i]:\n",
    "            p = re.compile('\\w*@odu\\.edu')\n",
    "            # print (isinstance(html[0][2][i], str))\n",
    "            if (isinstance(html[0][1][i], str)):\n",
    "                m = p.search(html[0][1][i])\n",
    "                if (m):\n",
    "                    print(m.group())\n",
    "                    sheet['D' + str(row)] = m.group()\n",
    "                    # Keep track of how close we are to being done\n",
    "                    print (str(format((row - start) / (end - start) * 100.00, '.2f')) + \"%: \" + m.group())"
   ]
  },
  {
   "cell_type": "code",
   "execution_count": 10,
   "metadata": {
    "collapsed": false
   },
   "outputs": [
    {
     "name": "stdout",
     "output_type": "stream",
     "text": [
      "NO PARTY HERE\n"
     ]
    }
   ],
   "source": [
    "if ((' ' in firstName) or (' ' in lastName)):\n",
    "    print (\"WE PARTYIN\")\n",
    "else:\n",
    "    print (\"NO PARTY HERE\")"
   ]
  }
 ],
 "metadata": {
  "kernelspec": {
   "display_name": "Python 3",
   "language": "python",
   "name": "python3"
  },
  "language_info": {
   "codemirror_mode": {
    "name": "ipython",
    "version": 3
   },
   "file_extension": ".py",
   "mimetype": "text/x-python",
   "name": "python",
   "nbconvert_exporter": "python",
   "pygments_lexer": "ipython3",
   "version": "3.5.2"
  }
 },
 "nbformat": 4,
 "nbformat_minor": 2
}
